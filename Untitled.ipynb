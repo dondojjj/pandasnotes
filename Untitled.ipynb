{
 "cells": [
  {
   "cell_type": "code",
   "execution_count": 34,
   "id": "e664478b",
   "metadata": {},
   "outputs": [],
   "source": [
    "import pandas as pd\n",
    "import numpy as np\n",
    "import matplotlib as mp"
   ]
  },
  {
   "cell_type": "code",
   "execution_count": 35,
   "id": "928465e4",
   "metadata": {},
   "outputs": [],
   "source": [
    "df = pd.read_csv('data2.csv')"
   ]
  },
  {
   "cell_type": "code",
   "execution_count": 23,
   "id": "2848b26e",
   "metadata": {},
   "outputs": [
    {
     "data": {
      "text/html": [
       "<div>\n",
       "<style scoped>\n",
       "    .dataframe tbody tr th:only-of-type {\n",
       "        vertical-align: middle;\n",
       "    }\n",
       "\n",
       "    .dataframe tbody tr th {\n",
       "        vertical-align: top;\n",
       "    }\n",
       "\n",
       "    .dataframe thead th {\n",
       "        text-align: right;\n",
       "    }\n",
       "</style>\n",
       "<table border=\"1\" class=\"dataframe\">\n",
       "  <thead>\n",
       "    <tr style=\"text-align: right;\">\n",
       "      <th></th>\n",
       "      <th>id</th>\n",
       "      <th>date</th>\n",
       "      <th>time_slot</th>\n",
       "      <th>total_user_time_spent_in_mins</th>\n",
       "      <th>total_ads_watched_in_mins</th>\n",
       "      <th>ads_clicked</th>\n",
       "      <th>user_time_spent_versionB_in_mins</th>\n",
       "      <th>ads_watched_vesionB_in_mins</th>\n",
       "      <th>ads_clicked_versionB</th>\n",
       "    </tr>\n",
       "  </thead>\n",
       "  <tbody>\n",
       "    <tr>\n",
       "      <th>0</th>\n",
       "      <td>0</td>\n",
       "      <td>6/1/2020</td>\n",
       "      <td>00:00-05:59</td>\n",
       "      <td>409671</td>\n",
       "      <td>26195</td>\n",
       "      <td>22</td>\n",
       "      <td>299059</td>\n",
       "      <td>24164</td>\n",
       "      <td>13</td>\n",
       "    </tr>\n",
       "    <tr>\n",
       "      <th>1</th>\n",
       "      <td>1</td>\n",
       "      <td>6/1/2020</td>\n",
       "      <td>06:00-11:59</td>\n",
       "      <td>346173</td>\n",
       "      <td>865</td>\n",
       "      <td>5</td>\n",
       "      <td>121160</td>\n",
       "      <td>865</td>\n",
       "      <td>2</td>\n",
       "    </tr>\n",
       "    <tr>\n",
       "      <th>2</th>\n",
       "      <td>2</td>\n",
       "      <td>6/1/2020</td>\n",
       "      <td>12:00-17:59</td>\n",
       "      <td>424768</td>\n",
       "      <td>11682</td>\n",
       "      <td>29</td>\n",
       "      <td>250613</td>\n",
       "      <td>2453</td>\n",
       "      <td>18</td>\n",
       "    </tr>\n",
       "    <tr>\n",
       "      <th>3</th>\n",
       "      <td>3</td>\n",
       "      <td>6/1/2020</td>\n",
       "      <td>18:00-23:59</td>\n",
       "      <td>512302</td>\n",
       "      <td>11435</td>\n",
       "      <td>0</td>\n",
       "      <td>379103</td>\n",
       "      <td>11435</td>\n",
       "      <td>0</td>\n",
       "    </tr>\n",
       "    <tr>\n",
       "      <th>4</th>\n",
       "      <td>4</td>\n",
       "      <td>6/2/2020</td>\n",
       "      <td>00:00-05:59</td>\n",
       "      <td>336584</td>\n",
       "      <td>24788</td>\n",
       "      <td>20</td>\n",
       "      <td>195218</td>\n",
       "      <td>10553</td>\n",
       "      <td>6</td>\n",
       "    </tr>\n",
       "  </tbody>\n",
       "</table>\n",
       "</div>"
      ],
      "text/plain": [
       "   id      date    time_slot  total_user_time_spent_in_mins  \\\n",
       "0   0  6/1/2020  00:00-05:59                         409671   \n",
       "1   1  6/1/2020  06:00-11:59                         346173   \n",
       "2   2  6/1/2020  12:00-17:59                         424768   \n",
       "3   3  6/1/2020  18:00-23:59                         512302   \n",
       "4   4  6/2/2020  00:00-05:59                         336584   \n",
       "\n",
       "   total_ads_watched_in_mins  ads_clicked  user_time_spent_versionB_in_mins  \\\n",
       "0                      26195           22                            299059   \n",
       "1                        865            5                            121160   \n",
       "2                      11682           29                            250613   \n",
       "3                      11435            0                            379103   \n",
       "4                      24788           20                            195218   \n",
       "\n",
       "   ads_watched_vesionB_in_mins  ads_clicked_versionB  \n",
       "0                        24164                    13  \n",
       "1                          865                     2  \n",
       "2                         2453                    18  \n",
       "3                        11435                     0  \n",
       "4                        10553                     6  "
      ]
     },
     "execution_count": 23,
     "metadata": {},
     "output_type": "execute_result"
    }
   ],
   "source": [
    "df.head()"
   ]
  },
  {
   "cell_type": "code",
   "execution_count": 26,
   "id": "b615be14",
   "metadata": {},
   "outputs": [
    {
     "data": {
      "text/plain": [
       "0.003196980760219142"
      ]
     },
     "execution_count": 26,
     "metadata": {},
     "output_type": "execute_result"
    }
   ],
   "source": [
    "df['click_ratio'] = df['ads_clicked']/df['total_ads_watched_in_mins']\n",
    "df['click_ratio'].mean()"
   ]
  },
  {
   "cell_type": "code",
   "execution_count": 27,
   "id": "a283c5b7",
   "metadata": {},
   "outputs": [],
   "source": [
    "df['ad_time_ratio'] = df['total_ads_watched_in_mins']/df['total_user_time_spent_in_mins']"
   ]
  },
  {
   "cell_type": "code",
   "execution_count": 28,
   "id": "0c9b6490",
   "metadata": {},
   "outputs": [
    {
     "data": {
      "text/plain": [
       "date\n",
       "6/1/2020     0.029066\n",
       "6/10/2020    0.072172\n",
       "6/11/2020    0.031691\n",
       "6/12/2020    0.017286\n",
       "6/13/2020    0.039503\n",
       "6/14/2020    0.061518\n",
       "6/15/2020    0.036076\n",
       "6/16/2020    0.071775\n",
       "6/17/2020    0.046999\n",
       "6/18/2020    0.043426\n",
       "6/19/2020    0.056050\n",
       "6/2/2020     0.059805\n",
       "6/20/2020    0.047120\n",
       "6/21/2020    0.057662\n",
       "6/22/2020    0.053144\n",
       "6/23/2020    0.021877\n",
       "6/24/2020    0.041482\n",
       "6/25/2020    0.083926\n",
       "6/26/2020    0.048770\n",
       "6/27/2020    0.036351\n",
       "6/28/2020    0.063669\n",
       "6/29/2020    0.061558\n",
       "6/3/2020     0.029392\n",
       "6/30/2020    0.042478\n",
       "6/4/2020     0.035502\n",
       "6/5/2020     0.040640\n",
       "6/6/2020     0.049991\n",
       "6/7/2020     0.037080\n",
       "6/8/2020     0.074701\n",
       "6/9/2020     0.060996\n",
       "Name: ad_time_ratio, dtype: float64"
      ]
     },
     "execution_count": 28,
     "metadata": {},
     "output_type": "execute_result"
    }
   ],
   "source": [
    "df.groupby(by=[\"date\"])['ad_time_ratio'].mean() #0.09895155760345037"
   ]
  },
  {
   "cell_type": "code",
   "execution_count": 29,
   "id": "11fe3b4f",
   "metadata": {},
   "outputs": [
    {
     "data": {
      "text/plain": [
       "0.08392617498373389"
      ]
     },
     "execution_count": 29,
     "metadata": {},
     "output_type": "execute_result"
    }
   ],
   "source": [
    "max(df.groupby(by=[\"date\"])['ad_time_ratio'].mean())"
   ]
  },
  {
   "cell_type": "code",
   "execution_count": 33,
   "id": "0020eb66",
   "metadata": {},
   "outputs": [
    {
     "data": {
      "text/plain": [
       "date\n",
       "6/1/2020      56\n",
       "6/10/2020     76\n",
       "6/11/2020     59\n",
       "6/12/2020     99\n",
       "6/13/2020     31\n",
       "6/14/2020     72\n",
       "6/15/2020     98\n",
       "6/16/2020     50\n",
       "6/17/2020     67\n",
       "6/18/2020     39\n",
       "6/19/2020     53\n",
       "6/2/2020      70\n",
       "6/20/2020     40\n",
       "6/21/2020     88\n",
       "6/22/2020     46\n",
       "6/23/2020    119\n",
       "6/24/2020     78\n",
       "6/25/2020     44\n",
       "6/26/2020     59\n",
       "6/27/2020     54\n",
       "6/28/2020     52\n",
       "6/29/2020     80\n",
       "6/3/2020      39\n",
       "6/30/2020     47\n",
       "6/4/2020      58\n",
       "6/5/2020      43\n",
       "6/6/2020      61\n",
       "6/7/2020      42\n",
       "6/8/2020      72\n",
       "6/9/2020      49\n",
       "Name: ads_clicked, dtype: int64"
      ]
     },
     "execution_count": 33,
     "metadata": {},
     "output_type": "execute_result"
    }
   ],
   "source": [
    "df.groupby(by=[\"date\"])['ads_clicked'].sum()"
   ]
  },
  {
   "cell_type": "code",
   "execution_count": 36,
   "id": "989883f3",
   "metadata": {},
   "outputs": [],
   "source": [
    "df['user_time_spent_versionA_in_mins'] = df['total_user_time_spent_in_mins']-df['user_time_spent_versionB_in_mins']"
   ]
  },
  {
   "cell_type": "code",
   "execution_count": 37,
   "id": "571d9791",
   "metadata": {},
   "outputs": [
    {
     "data": {
      "text/plain": [
       "week\n",
       "1    4823618\n",
       "2    4843432\n",
       "3    5448068\n",
       "4    4992887\n",
       "5    1831816\n",
       "Name: user_time_spent_versionA_in_mins, dtype: int64"
      ]
     },
     "execution_count": 37,
     "metadata": {},
     "output_type": "execute_result"
    }
   ],
   "source": [
    "df.groupby(by=[\"week\"])['user_time_spent_versionA_in_mins'].sum()"
   ]
  },
  {
   "cell_type": "code",
   "execution_count": 38,
   "id": "62c13858",
   "metadata": {},
   "outputs": [
    {
     "data": {
      "text/plain": [
       "time_slot\n",
       "00:00-05:59    583165\n",
       "06:00-11:59    482332\n",
       "12:00-17:59    501434\n",
       "18:00-23:59    486800\n",
       "Name: total_ads_watched_in_mins, dtype: int64"
      ]
     },
     "execution_count": 38,
     "metadata": {},
     "output_type": "execute_result"
    }
   ],
   "source": [
    "df.groupby(by=[\"time_slot\"])['total_ads_watched_in_mins'].sum()"
   ]
  },
  {
   "cell_type": "code",
   "execution_count": 49,
   "id": "0fd47809",
   "metadata": {},
   "outputs": [],
   "source": [
    "dfvid = pd.read_csv('videos.csv')\n",
    "dfads = pd.read_csv('ads.csv')\n"
   ]
  },
  {
   "cell_type": "code",
   "execution_count": 46,
   "id": "cbee6051",
   "metadata": {},
   "outputs": [
    {
     "data": {
      "text/html": [
       "<div>\n",
       "<style scoped>\n",
       "    .dataframe tbody tr th:only-of-type {\n",
       "        vertical-align: middle;\n",
       "    }\n",
       "\n",
       "    .dataframe tbody tr th {\n",
       "        vertical-align: top;\n",
       "    }\n",
       "\n",
       "    .dataframe thead th {\n",
       "        text-align: right;\n",
       "    }\n",
       "</style>\n",
       "<table border=\"1\" class=\"dataframe\">\n",
       "  <thead>\n",
       "    <tr style=\"text-align: right;\">\n",
       "      <th></th>\n",
       "      <th>ad_id</th>\n",
       "      <th>ad_name</th>\n",
       "      <th>long_version_video_id</th>\n",
       "      <th>short_version_video_id</th>\n",
       "    </tr>\n",
       "  </thead>\n",
       "  <tbody>\n",
       "    <tr>\n",
       "      <th>0</th>\n",
       "      <td>0</td>\n",
       "      <td>chats-conditionate</td>\n",
       "      <td>86</td>\n",
       "      <td>185</td>\n",
       "    </tr>\n",
       "    <tr>\n",
       "      <th>1</th>\n",
       "      <td>1</td>\n",
       "      <td>isomerizing-louma</td>\n",
       "      <td>1007</td>\n",
       "      <td>1724</td>\n",
       "    </tr>\n",
       "    <tr>\n",
       "      <th>2</th>\n",
       "      <td>2</td>\n",
       "      <td>tipcat-preorder</td>\n",
       "      <td>1890</td>\n",
       "      <td>1229</td>\n",
       "    </tr>\n",
       "    <tr>\n",
       "      <th>3</th>\n",
       "      <td>3</td>\n",
       "      <td>incipient-mumpishly</td>\n",
       "      <td>59</td>\n",
       "      <td>435</td>\n",
       "    </tr>\n",
       "    <tr>\n",
       "      <th>4</th>\n",
       "      <td>4</td>\n",
       "      <td>xylorimbas-drosophilas</td>\n",
       "      <td>1217</td>\n",
       "      <td>1596</td>\n",
       "    </tr>\n",
       "    <tr>\n",
       "      <th>...</th>\n",
       "      <td>...</td>\n",
       "      <td>...</td>\n",
       "      <td>...</td>\n",
       "      <td>...</td>\n",
       "    </tr>\n",
       "    <tr>\n",
       "      <th>995</th>\n",
       "      <td>995</td>\n",
       "      <td>blew-thraward</td>\n",
       "      <td>1661</td>\n",
       "      <td>817</td>\n",
       "    </tr>\n",
       "    <tr>\n",
       "      <th>996</th>\n",
       "      <td>996</td>\n",
       "      <td>bating-hagdon</td>\n",
       "      <td>945</td>\n",
       "      <td>32</td>\n",
       "    </tr>\n",
       "    <tr>\n",
       "      <th>997</th>\n",
       "      <td>997</td>\n",
       "      <td>newsgroup-degenerateness</td>\n",
       "      <td>1995</td>\n",
       "      <td>1322</td>\n",
       "    </tr>\n",
       "    <tr>\n",
       "      <th>998</th>\n",
       "      <td>998</td>\n",
       "      <td>dionysian-shrimping</td>\n",
       "      <td>1585</td>\n",
       "      <td>548</td>\n",
       "    </tr>\n",
       "    <tr>\n",
       "      <th>999</th>\n",
       "      <td>999</td>\n",
       "      <td>cocooned-ampliation</td>\n",
       "      <td>1371</td>\n",
       "      <td>994</td>\n",
       "    </tr>\n",
       "  </tbody>\n",
       "</table>\n",
       "<p>1000 rows × 4 columns</p>\n",
       "</div>"
      ],
      "text/plain": [
       "     ad_id                   ad_name  long_version_video_id  \\\n",
       "0        0        chats-conditionate                     86   \n",
       "1        1         isomerizing-louma                   1007   \n",
       "2        2           tipcat-preorder                   1890   \n",
       "3        3       incipient-mumpishly                     59   \n",
       "4        4    xylorimbas-drosophilas                   1217   \n",
       "..     ...                       ...                    ...   \n",
       "995    995             blew-thraward                   1661   \n",
       "996    996             bating-hagdon                    945   \n",
       "997    997  newsgroup-degenerateness                   1995   \n",
       "998    998       dionysian-shrimping                   1585   \n",
       "999    999       cocooned-ampliation                   1371   \n",
       "\n",
       "     short_version_video_id  \n",
       "0                       185  \n",
       "1                      1724  \n",
       "2                      1229  \n",
       "3                       435  \n",
       "4                      1596  \n",
       "..                      ...  \n",
       "995                     817  \n",
       "996                      32  \n",
       "997                    1322  \n",
       "998                     548  \n",
       "999                     994  \n",
       "\n",
       "[1000 rows x 4 columns]"
      ]
     },
     "execution_count": 46,
     "metadata": {},
     "output_type": "execute_result"
    }
   ],
   "source": [
    "dfads"
   ]
  },
  {
   "cell_type": "code",
   "execution_count": 47,
   "id": "4e1ab3cf",
   "metadata": {},
   "outputs": [
    {
     "data": {
      "text/html": [
       "<div>\n",
       "<style scoped>\n",
       "    .dataframe tbody tr th:only-of-type {\n",
       "        vertical-align: middle;\n",
       "    }\n",
       "\n",
       "    .dataframe tbody tr th {\n",
       "        vertical-align: top;\n",
       "    }\n",
       "\n",
       "    .dataframe thead th {\n",
       "        text-align: right;\n",
       "    }\n",
       "</style>\n",
       "<table border=\"1\" class=\"dataframe\">\n",
       "  <thead>\n",
       "    <tr style=\"text-align: right;\">\n",
       "      <th></th>\n",
       "      <th>video_id</th>\n",
       "      <th>path</th>\n",
       "      <th>duration</th>\n",
       "    </tr>\n",
       "  </thead>\n",
       "  <tbody>\n",
       "    <tr>\n",
       "      <th>0</th>\n",
       "      <td>2000</td>\n",
       "      <td>/videos/2020-02-01/doodoo-dudism.mp4</td>\n",
       "      <td>24</td>\n",
       "    </tr>\n",
       "    <tr>\n",
       "      <th>1</th>\n",
       "      <td>2001</td>\n",
       "      <td>/root/bucket3/facings-elapses.mp4</td>\n",
       "      <td>28</td>\n",
       "    </tr>\n",
       "    <tr>\n",
       "      <th>2</th>\n",
       "      <td>2002</td>\n",
       "      <td>/videos/2020-02-01/operosenesses-kiwifruit.mp4</td>\n",
       "      <td>7</td>\n",
       "    </tr>\n",
       "    <tr>\n",
       "      <th>3</th>\n",
       "      <td>2003</td>\n",
       "      <td>/root/bucket3/deltiologist-motley.mp4</td>\n",
       "      <td>18</td>\n",
       "    </tr>\n",
       "    <tr>\n",
       "      <th>4</th>\n",
       "      <td>2004</td>\n",
       "      <td>/videos/2020-02-04/scoreboards-preselections.mp4</td>\n",
       "      <td>41</td>\n",
       "    </tr>\n",
       "    <tr>\n",
       "      <th>...</th>\n",
       "      <td>...</td>\n",
       "      <td>...</td>\n",
       "      <td>...</td>\n",
       "    </tr>\n",
       "    <tr>\n",
       "      <th>2095</th>\n",
       "      <td>1995</td>\n",
       "      <td>/root/bucket1/newsgroup-degenerateness-long.mp4</td>\n",
       "      <td>32</td>\n",
       "    </tr>\n",
       "    <tr>\n",
       "      <th>2096</th>\n",
       "      <td>548</td>\n",
       "      <td>/root/bucket3/dionysian-shrimping-short.mp4</td>\n",
       "      <td>29</td>\n",
       "    </tr>\n",
       "    <tr>\n",
       "      <th>2097</th>\n",
       "      <td>1585</td>\n",
       "      <td>/root/bucket1/dionysian-shrimping-long.mp4</td>\n",
       "      <td>28</td>\n",
       "    </tr>\n",
       "    <tr>\n",
       "      <th>2098</th>\n",
       "      <td>994</td>\n",
       "      <td>/videos/2020-02-01/cocooned-ampliation-short.mp4</td>\n",
       "      <td>29</td>\n",
       "    </tr>\n",
       "    <tr>\n",
       "      <th>2099</th>\n",
       "      <td>1371</td>\n",
       "      <td>/root/bucket5/cocooned-ampliation-long.mp4</td>\n",
       "      <td>34</td>\n",
       "    </tr>\n",
       "  </tbody>\n",
       "</table>\n",
       "<p>2100 rows × 3 columns</p>\n",
       "</div>"
      ],
      "text/plain": [
       "      video_id                                              path  duration\n",
       "0         2000              /videos/2020-02-01/doodoo-dudism.mp4        24\n",
       "1         2001                 /root/bucket3/facings-elapses.mp4        28\n",
       "2         2002    /videos/2020-02-01/operosenesses-kiwifruit.mp4         7\n",
       "3         2003             /root/bucket3/deltiologist-motley.mp4        18\n",
       "4         2004  /videos/2020-02-04/scoreboards-preselections.mp4        41\n",
       "...        ...                                               ...       ...\n",
       "2095      1995   /root/bucket1/newsgroup-degenerateness-long.mp4        32\n",
       "2096       548       /root/bucket3/dionysian-shrimping-short.mp4        29\n",
       "2097      1585        /root/bucket1/dionysian-shrimping-long.mp4        28\n",
       "2098       994  /videos/2020-02-01/cocooned-ampliation-short.mp4        29\n",
       "2099      1371        /root/bucket5/cocooned-ampliation-long.mp4        34\n",
       "\n",
       "[2100 rows x 3 columns]"
      ]
     },
     "execution_count": 47,
     "metadata": {},
     "output_type": "execute_result"
    }
   ],
   "source": [
    "dfvid"
   ]
  },
  {
   "cell_type": "code",
   "execution_count": 44,
   "id": "cb8a6925",
   "metadata": {},
   "outputs": [
    {
     "data": {
      "text/plain": [
       "[False]"
      ]
     },
     "execution_count": 44,
     "metadata": {},
     "output_type": "execute_result"
    }
   ],
   "source": [
    "arr = ['mumbliest' in dfvid['path']]\n",
    "arr"
   ]
  },
  {
   "cell_type": "code",
   "execution_count": 54,
   "id": "47e6994b",
   "metadata": {},
   "outputs": [
    {
     "data": {
      "text/plain": [
       "0      28\n",
       "1      50\n",
       "2      58\n",
       "3      25\n",
       "4      29\n",
       "       ..\n",
       "995    28\n",
       "996    57\n",
       "997    32\n",
       "998    28\n",
       "999    34\n",
       "Name: duration, Length: 1000, dtype: int64"
      ]
     },
     "execution_count": 54,
     "metadata": {},
     "output_type": "execute_result"
    }
   ],
   "source": [
    "newmerge = dfads.merge(dfvid, left_on='long_version_video_id', right_on='video_id', how='inner')\n",
    "duration_long = newmerge['duration']\n",
    "duration_long"
   ]
  },
  {
   "cell_type": "code",
   "execution_count": 55,
   "id": "6ec29192",
   "metadata": {},
   "outputs": [
    {
     "data": {
      "text/plain": [
       "0      29\n",
       "1      10\n",
       "2      28\n",
       "3      11\n",
       "4      13\n",
       "       ..\n",
       "995    20\n",
       "996     7\n",
       "997     7\n",
       "998    29\n",
       "999    29\n",
       "Name: duration, Length: 1000, dtype: int64"
      ]
     },
     "execution_count": 55,
     "metadata": {},
     "output_type": "execute_result"
    }
   ],
   "source": [
    "newmerge2 = dfads.merge(dfvid, left_on='short_version_video_id', right_on='video_id', how='inner')\n",
    "duration_short = newmerge2['duration']\n",
    "duration_short"
   ]
  },
  {
   "cell_type": "code",
   "execution_count": 56,
   "id": "4ebca650",
   "metadata": {},
   "outputs": [
    {
     "data": {
      "text/plain": [
       "0       True\n",
       "1      False\n",
       "2      False\n",
       "3      False\n",
       "4      False\n",
       "       ...  \n",
       "995    False\n",
       "996    False\n",
       "997    False\n",
       "998     True\n",
       "999    False\n",
       "Name: duration, Length: 1000, dtype: bool"
      ]
     },
     "execution_count": 56,
     "metadata": {},
     "output_type": "execute_result"
    }
   ],
   "source": [
    "compare = duration_long < duration_short\n",
    "compare"
   ]
  },
  {
   "cell_type": "code",
   "execution_count": 59,
   "id": "ff98208d",
   "metadata": {},
   "outputs": [
    {
     "data": {
      "text/plain": [
       "18"
      ]
     },
     "execution_count": 59,
     "metadata": {},
     "output_type": "execute_result"
    }
   ],
   "source": [
    "newmerge2['duration'][compare].count()"
   ]
  },
  {
   "cell_type": "code",
   "execution_count": 80,
   "id": "d5266470",
   "metadata": {},
   "outputs": [],
   "source": [
    "dfplat = pd.read_csv('platforms.csv')\n",
    "dfstat = pd.read_csv('ads_statistics.csv')"
   ]
  },
  {
   "cell_type": "code",
   "execution_count": 66,
   "id": "21f85b75",
   "metadata": {},
   "outputs": [
    {
     "data": {
      "text/html": [
       "<div>\n",
       "<style scoped>\n",
       "    .dataframe tbody tr th:only-of-type {\n",
       "        vertical-align: middle;\n",
       "    }\n",
       "\n",
       "    .dataframe tbody tr th {\n",
       "        vertical-align: top;\n",
       "    }\n",
       "\n",
       "    .dataframe thead th {\n",
       "        text-align: right;\n",
       "    }\n",
       "</style>\n",
       "<table border=\"1\" class=\"dataframe\">\n",
       "  <thead>\n",
       "    <tr style=\"text-align: right;\">\n",
       "      <th></th>\n",
       "      <th>platform_id</th>\n",
       "      <th>video_id</th>\n",
       "      <th>watch_count</th>\n",
       "      <th>total_time_watched</th>\n",
       "      <th>price_per_watch</th>\n",
       "    </tr>\n",
       "  </thead>\n",
       "  <tbody>\n",
       "    <tr>\n",
       "      <th>0</th>\n",
       "      <td>159</td>\n",
       "      <td>1181</td>\n",
       "      <td>1513</td>\n",
       "      <td>36312</td>\n",
       "      <td>0.25</td>\n",
       "    </tr>\n",
       "    <tr>\n",
       "      <th>1</th>\n",
       "      <td>117</td>\n",
       "      <td>655</td>\n",
       "      <td>794140</td>\n",
       "      <td>19853500</td>\n",
       "      <td>0.42</td>\n",
       "    </tr>\n",
       "    <tr>\n",
       "      <th>2</th>\n",
       "      <td>30</td>\n",
       "      <td>1346</td>\n",
       "      <td>842177</td>\n",
       "      <td>5895239</td>\n",
       "      <td>0.44</td>\n",
       "    </tr>\n",
       "    <tr>\n",
       "      <th>3</th>\n",
       "      <td>160</td>\n",
       "      <td>113</td>\n",
       "      <td>1997</td>\n",
       "      <td>11982</td>\n",
       "      <td>0.14</td>\n",
       "    </tr>\n",
       "    <tr>\n",
       "      <th>4</th>\n",
       "      <td>103</td>\n",
       "      <td>1445</td>\n",
       "      <td>376330</td>\n",
       "      <td>6773940</td>\n",
       "      <td>0.38</td>\n",
       "    </tr>\n",
       "    <tr>\n",
       "      <th>...</th>\n",
       "      <td>...</td>\n",
       "      <td>...</td>\n",
       "      <td>...</td>\n",
       "      <td>...</td>\n",
       "      <td>...</td>\n",
       "    </tr>\n",
       "    <tr>\n",
       "      <th>7334</th>\n",
       "      <td>198</td>\n",
       "      <td>1515</td>\n",
       "      <td>510274</td>\n",
       "      <td>22452056</td>\n",
       "      <td>0.46</td>\n",
       "    </tr>\n",
       "    <tr>\n",
       "      <th>7335</th>\n",
       "      <td>199</td>\n",
       "      <td>651</td>\n",
       "      <td>981992</td>\n",
       "      <td>40261672</td>\n",
       "      <td>0.39</td>\n",
       "    </tr>\n",
       "    <tr>\n",
       "      <th>7336</th>\n",
       "      <td>200</td>\n",
       "      <td>1058</td>\n",
       "      <td>403888</td>\n",
       "      <td>3634992</td>\n",
       "      <td>0.17</td>\n",
       "    </tr>\n",
       "    <tr>\n",
       "      <th>7337</th>\n",
       "      <td>201</td>\n",
       "      <td>10</td>\n",
       "      <td>539148</td>\n",
       "      <td>4313184</td>\n",
       "      <td>0.44</td>\n",
       "    </tr>\n",
       "    <tr>\n",
       "      <th>7338</th>\n",
       "      <td>202</td>\n",
       "      <td>794</td>\n",
       "      <td>559483</td>\n",
       "      <td>18462939</td>\n",
       "      <td>0.39</td>\n",
       "    </tr>\n",
       "  </tbody>\n",
       "</table>\n",
       "<p>7339 rows × 5 columns</p>\n",
       "</div>"
      ],
      "text/plain": [
       "      platform_id  video_id  watch_count  total_time_watched  price_per_watch\n",
       "0             159      1181         1513               36312             0.25\n",
       "1             117       655       794140            19853500             0.42\n",
       "2              30      1346       842177             5895239             0.44\n",
       "3             160       113         1997               11982             0.14\n",
       "4             103      1445       376330             6773940             0.38\n",
       "...           ...       ...          ...                 ...              ...\n",
       "7334          198      1515       510274            22452056             0.46\n",
       "7335          199       651       981992            40261672             0.39\n",
       "7336          200      1058       403888             3634992             0.17\n",
       "7337          201        10       539148             4313184             0.44\n",
       "7338          202       794       559483            18462939             0.39\n",
       "\n",
       "[7339 rows x 5 columns]"
      ]
     },
     "execution_count": 66,
     "metadata": {},
     "output_type": "execute_result"
    }
   ],
   "source": [
    "dfstat"
   ]
  },
  {
   "cell_type": "code",
   "execution_count": 74,
   "id": "6c52cc73",
   "metadata": {},
   "outputs": [
    {
     "data": {
      "text/html": [
       "<div>\n",
       "<style scoped>\n",
       "    .dataframe tbody tr th:only-of-type {\n",
       "        vertical-align: middle;\n",
       "    }\n",
       "\n",
       "    .dataframe tbody tr th {\n",
       "        vertical-align: top;\n",
       "    }\n",
       "\n",
       "    .dataframe thead th {\n",
       "        text-align: right;\n",
       "    }\n",
       "</style>\n",
       "<table border=\"1\" class=\"dataframe\">\n",
       "  <thead>\n",
       "    <tr style=\"text-align: right;\">\n",
       "      <th></th>\n",
       "      <th>platform_id</th>\n",
       "      <th>video_id</th>\n",
       "      <th>watch_count</th>\n",
       "      <th>total_time_watched</th>\n",
       "      <th>price_per_watch</th>\n",
       "      <th>contact_mail</th>\n",
       "      <th>website</th>\n",
       "    </tr>\n",
       "  </thead>\n",
       "  <tbody>\n",
       "    <tr>\n",
       "      <th>0</th>\n",
       "      <td>159</td>\n",
       "      <td>1181</td>\n",
       "      <td>1513</td>\n",
       "      <td>36312</td>\n",
       "      <td>0.25</td>\n",
       "      <td>timtroyr@mac.com</td>\n",
       "      <td>NaN</td>\n",
       "    </tr>\n",
       "    <tr>\n",
       "      <th>1</th>\n",
       "      <td>117</td>\n",
       "      <td>655</td>\n",
       "      <td>794140</td>\n",
       "      <td>19853500</td>\n",
       "      <td>0.42</td>\n",
       "      <td>dmiller@gmail.com</td>\n",
       "      <td>wufoo.com</td>\n",
       "    </tr>\n",
       "    <tr>\n",
       "      <th>2</th>\n",
       "      <td>30</td>\n",
       "      <td>1346</td>\n",
       "      <td>842177</td>\n",
       "      <td>5895239</td>\n",
       "      <td>0.44</td>\n",
       "      <td>greear@live.com</td>\n",
       "      <td>de.vu</td>\n",
       "    </tr>\n",
       "    <tr>\n",
       "      <th>3</th>\n",
       "      <td>160</td>\n",
       "      <td>113</td>\n",
       "      <td>1997</td>\n",
       "      <td>11982</td>\n",
       "      <td>0.14</td>\n",
       "      <td>malattia@live.com</td>\n",
       "      <td>NaN</td>\n",
       "    </tr>\n",
       "    <tr>\n",
       "      <th>4</th>\n",
       "      <td>103</td>\n",
       "      <td>1445</td>\n",
       "      <td>376330</td>\n",
       "      <td>6773940</td>\n",
       "      <td>0.38</td>\n",
       "      <td>NaN</td>\n",
       "      <td>discovery.com</td>\n",
       "    </tr>\n",
       "    <tr>\n",
       "      <th>...</th>\n",
       "      <td>...</td>\n",
       "      <td>...</td>\n",
       "      <td>...</td>\n",
       "      <td>...</td>\n",
       "      <td>...</td>\n",
       "      <td>...</td>\n",
       "      <td>...</td>\n",
       "    </tr>\n",
       "    <tr>\n",
       "      <th>7334</th>\n",
       "      <td>198</td>\n",
       "      <td>1515</td>\n",
       "      <td>510274</td>\n",
       "      <td>22452056</td>\n",
       "      <td>0.46</td>\n",
       "      <td>NaN</td>\n",
       "      <td>NaN</td>\n",
       "    </tr>\n",
       "    <tr>\n",
       "      <th>7335</th>\n",
       "      <td>199</td>\n",
       "      <td>651</td>\n",
       "      <td>981992</td>\n",
       "      <td>40261672</td>\n",
       "      <td>0.39</td>\n",
       "      <td>NaN</td>\n",
       "      <td>NaN</td>\n",
       "    </tr>\n",
       "    <tr>\n",
       "      <th>7336</th>\n",
       "      <td>200</td>\n",
       "      <td>1058</td>\n",
       "      <td>403888</td>\n",
       "      <td>3634992</td>\n",
       "      <td>0.17</td>\n",
       "      <td>NaN</td>\n",
       "      <td>NaN</td>\n",
       "    </tr>\n",
       "    <tr>\n",
       "      <th>7337</th>\n",
       "      <td>201</td>\n",
       "      <td>10</td>\n",
       "      <td>539148</td>\n",
       "      <td>4313184</td>\n",
       "      <td>0.44</td>\n",
       "      <td>NaN</td>\n",
       "      <td>NaN</td>\n",
       "    </tr>\n",
       "    <tr>\n",
       "      <th>7338</th>\n",
       "      <td>202</td>\n",
       "      <td>794</td>\n",
       "      <td>559483</td>\n",
       "      <td>18462939</td>\n",
       "      <td>0.39</td>\n",
       "      <td>NaN</td>\n",
       "      <td>NaN</td>\n",
       "    </tr>\n",
       "  </tbody>\n",
       "</table>\n",
       "<p>7339 rows × 7 columns</p>\n",
       "</div>"
      ],
      "text/plain": [
       "      platform_id  video_id  watch_count  total_time_watched  price_per_watch  \\\n",
       "0             159      1181         1513               36312             0.25   \n",
       "1             117       655       794140            19853500             0.42   \n",
       "2              30      1346       842177             5895239             0.44   \n",
       "3             160       113         1997               11982             0.14   \n",
       "4             103      1445       376330             6773940             0.38   \n",
       "...           ...       ...          ...                 ...              ...   \n",
       "7334          198      1515       510274            22452056             0.46   \n",
       "7335          199       651       981992            40261672             0.39   \n",
       "7336          200      1058       403888             3634992             0.17   \n",
       "7337          201        10       539148             4313184             0.44   \n",
       "7338          202       794       559483            18462939             0.39   \n",
       "\n",
       "           contact_mail        website  \n",
       "0      timtroyr@mac.com            NaN  \n",
       "1     dmiller@gmail.com      wufoo.com  \n",
       "2       greear@live.com          de.vu  \n",
       "3     malattia@live.com            NaN  \n",
       "4                   NaN  discovery.com  \n",
       "...                 ...            ...  \n",
       "7334                NaN            NaN  \n",
       "7335                NaN            NaN  \n",
       "7336                NaN            NaN  \n",
       "7337                NaN            NaN  \n",
       "7338                NaN            NaN  \n",
       "\n",
       "[7339 rows x 7 columns]"
      ]
     },
     "execution_count": 74,
     "metadata": {},
     "output_type": "execute_result"
    }
   ],
   "source": [
    "newmerge3 = dfstat.merge(dfplat, left_on='platform_id',right_on='platform_id', how='left')\n",
    "newmerge3\n"
   ]
  },
  {
   "cell_type": "code",
   "execution_count": 76,
   "id": "04f13c76",
   "metadata": {},
   "outputs": [
    {
     "data": {
      "text/plain": [
       "0        True\n",
       "1       False\n",
       "2       False\n",
       "3        True\n",
       "4        True\n",
       "        ...  \n",
       "7334     True\n",
       "7335     True\n",
       "7336     True\n",
       "7337     True\n",
       "7338     True\n",
       "Name: exist, Length: 7339, dtype: bool"
      ]
     },
     "execution_count": 76,
     "metadata": {},
     "output_type": "execute_result"
    }
   ],
   "source": [
    "newmerge3['exist'] = newmerge3['contact_mail'].isnull() | newmerge3['website'].isnull()\n",
    "newmerge3['exist']"
   ]
  },
  {
   "cell_type": "code",
   "execution_count": 79,
   "id": "8ce68f1c",
   "metadata": {},
   "outputs": [
    {
     "data": {
      "text/plain": [
       "0       True\n",
       "3       True\n",
       "4       True\n",
       "6       True\n",
       "13      True\n",
       "        ... \n",
       "7334    True\n",
       "7335    True\n",
       "7336    True\n",
       "7337    True\n",
       "7338    True\n",
       "Name: exist, Length: 2087, dtype: bool"
      ]
     },
     "execution_count": 79,
     "metadata": {},
     "output_type": "execute_result"
    }
   ],
   "source": [
    "newmerge3['exist'][newmerge3['exist'] == True]"
   ]
  },
  {
   "cell_type": "code",
   "execution_count": 81,
   "id": "c80a87c2",
   "metadata": {},
   "outputs": [],
   "source": [
    "dfstat['total_cost'] =  newmerge3['watch_count']* newmerge3['price_per_watch']"
   ]
  },
  {
   "cell_type": "code",
   "execution_count": 82,
   "id": "869ef55b",
   "metadata": {},
   "outputs": [],
   "source": [
    "grouped = dfstat.groupby('platform_id')['total_cost'].sum()"
   ]
  },
  {
   "cell_type": "code",
   "execution_count": 83,
   "id": "6a21f901",
   "metadata": {},
   "outputs": [
    {
     "data": {
      "text/plain": [
       "platform_id\n",
       "0      4285708.40\n",
       "1      3178805.82\n",
       "2      4470850.54\n",
       "3      5016001.32\n",
       "4      3688426.69\n",
       "          ...    \n",
       "198     234726.04\n",
       "199     382976.88\n",
       "200      68660.96\n",
       "201     237225.12\n",
       "202     218198.37\n",
       "Name: total_cost, Length: 186, dtype: float64"
      ]
     },
     "execution_count": 83,
     "metadata": {},
     "output_type": "execute_result"
    }
   ],
   "source": [
    "grouped"
   ]
  },
  {
   "cell_type": "code",
   "execution_count": null,
   "id": "a1ea2cc0",
   "metadata": {},
   "outputs": [],
   "source": [
    "newmerge4 = dfstat.merge3['contact_mail'].isnull() | newmerge3['website'].isnull()\n",
    "newmerge3['exist']"
   ]
  }
 ],
 "metadata": {
  "kernelspec": {
   "display_name": "Python 3 (ipykernel)",
   "language": "python",
   "name": "python3"
  },
  "language_info": {
   "codemirror_mode": {
    "name": "ipython",
    "version": 3
   },
   "file_extension": ".py",
   "mimetype": "text/x-python",
   "name": "python",
   "nbconvert_exporter": "python",
   "pygments_lexer": "ipython3",
   "version": "3.9.13"
  }
 },
 "nbformat": 4,
 "nbformat_minor": 5
}
